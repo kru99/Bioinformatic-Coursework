{
 "cells": [
  {
   "cell_type": "code",
   "execution_count": 3,
   "metadata": {},
   "outputs": [
    {
     "name": "stdout",
     "output_type": "stream",
     "text": [
      "6\n"
     ]
    }
   ],
   "source": [
    "##count patterns\n",
    "def PatternCount(Text, Pattern):\n",
    "    # fill in your function here\n",
    "    count = 0\n",
    "    \n",
    "    for i in range(len(Text)-len(Pattern)+1):\n",
    "        if Text[i:len(Pattern)+i] == Pattern:\n",
    "            count+=1\n",
    "    \n",
    "    return count\n",
    "\n",
    "Text =  \"GACCATCAAAACTGATAAACTACTTAAAAATCAGT\"\n",
    "Pattern = \"AAA\"\n",
    "print(PatternCount(Text, Pattern))"
   ]
  },
  {
   "cell_type": "code",
   "execution_count": 4,
   "metadata": {},
   "outputs": [
    {
     "name": "stdout",
     "output_type": "stream",
     "text": [
      "Patterns with frequency >= 2: ['GGA', 'AGG', 'GAC', 'TAG', 'GGT', 'TCA', 'CAT']\n",
      "{'CGG': 1, 'GGA': 3, 'GAG': 1, 'AGG': 4, 'GAC': 2, 'ACT': 1, 'CTC': 1, 'TCT': 1, 'CTA': 1, 'TAG': 2, 'GGT': 2, 'GTA': 1, 'TAA': 1, 'AAC': 1, 'ACG': 1, 'CGC': 1, 'GCT': 1, 'CTT': 1, 'TTA': 1, 'TAT': 1, 'ATC': 1, 'TCA': 2, 'CAG': 1, 'GTC': 1, 'TCC': 1, 'CCA': 1, 'CAT': 2, 'ATA': 1, 'ACA': 1, 'ATT': 1, 'TTC': 1}\n"
     ]
    }
   ],
   "source": [
    "##more advanced, create frequency map \n",
    "\n",
    "def FrequencyMap(Text, k):\n",
    "    freq = {}\n",
    "    n = len(Text)\n",
    "    \n",
    "    # Loop through Text to create k-mer patterns and count their frequencies\n",
    "    for i in range(n - k + 1):\n",
    "        Pattern = Text[i:i + k]\n",
    "        \n",
    "        # Update frequency map\n",
    "        if Pattern not in freq:\n",
    "            freq[Pattern] = 1\n",
    "        else:\n",
    "            freq[Pattern] += 1\n",
    "    \n",
    "    # NEW CODE: Collect patterns with frequency >= 2\n",
    "    list_over_2 = []\n",
    "    for pattern, count in freq.items():\n",
    "        if count >= 2:  # Changed from > 2 to >= 2\n",
    "            list_over_2.append(pattern)  # Add pattern to the list if its count is 2 or more\n",
    "    \n",
    "    # Output the patterns list\n",
    "    print(\"Patterns with frequency >= 2:\", list_over_2)\n",
    "    \n",
    "    return freq\n",
    "\n",
    "# Example test\n",
    "print(FrequencyMap('CGGAGGACTCTAGGTAACGCTTATCAGGTCCATAGGACATTCA', 3))"
   ]
  },
  {
   "cell_type": "code",
   "execution_count": 5,
   "metadata": {},
   "outputs": [
    {
     "name": "stdout",
     "output_type": "stream",
     "text": [
      "AGCTAGC\n"
     ]
    }
   ],
   "source": [
    "def ReverseComplement(Pattern):\n",
    "    \n",
    "    reversed_pattern = Pattern[::-1]\n",
    "    \n",
    "    complement_letters=[]\n",
    "    for char in reversed_pattern:\n",
    "        if char == 'A':\n",
    "            complement_letters.append('T')\n",
    "        elif char == 'T':\n",
    "            complement_letters.append('A')\n",
    "        elif char == 'C':\n",
    "            complement_letters.append('G')\n",
    "        elif char == 'G':\n",
    "            complement_letters.append('C')\n",
    "        else:\n",
    "            pass\n",
    "    \n",
    "    complement_strand = ''.join(complement_letters)\n",
    "    \n",
    "    return complement_strand\n",
    "\n",
    "\n",
    "\n",
    "\n",
    "result = ReverseComplement('GCTAGCT')\n",
    "print(result)\n"
   ]
  },
  {
   "cell_type": "code",
   "execution_count": 1,
   "metadata": {},
   "outputs": [
    {
     "name": "stdout",
     "output_type": "stream",
     "text": [
      "[60039, 98409, 129189, 152283, 152354, 152411, 163207, 197028, 200160, 357976, 376771, 392723, 532935, 600085, 622755, 1065555]\n"
     ]
    }
   ],
   "source": [
    "##Pattern Matching Problem: Find all occurrences of a pattern in a string.\n",
    "\n",
    "def PatternMatching(Pattern, Genome):\n",
    "    index_position = []\n",
    "    n = len(Genome)\n",
    "    m = len(Pattern)\n",
    "    \n",
    "    for i in range(0,n-m+1):\n",
    "        if Genome[i:i+m] == Pattern:\n",
    "            index_position.append(i)\n",
    "        else:\n",
    "            pass\n",
    "        \n",
    "    return index_position\n",
    "\n",
    "with open('genome_example.txt', 'r') as file:  \n",
    "    Genome = file.read().replace(\"\\n\", \"\")\n",
    "\n",
    "result = PatternMatching('CTTGATCAT', Genome)\n",
    "print(result)"
   ]
  },
  {
   "cell_type": "code",
   "execution_count": null,
   "metadata": {},
   "outputs": [],
   "source": [
    "##Clump Finding Problem: Find patterns forming clumps in a string.\n",
    "    ##Input: A string Genome, and integers k, L, and t.\n",
    "    ##Output: All distinct k-mers forming (L, t)-clumps in Genome.\n",
    "    \n"
   ]
  },
  {
   "cell_type": "code",
   "execution_count": 8,
   "metadata": {},
   "outputs": [
    {
     "name": "stdout",
     "output_type": "stream",
     "text": [
      "{0: 4, 1: 3, 2: 2, 3: 1, 4: 0, 5: 1, 6: 2, 7: 3}\n"
     ]
    }
   ],
   "source": [
    "\n",
    "\n",
    "def SymbolArray(Genome, symbol):\n",
    "    array = {}\n",
    "    n = len(Genome)\n",
    "    ExtendedGenome = Genome + Genome[0:n//2]\n",
    "    for i in range(n):\n",
    "        array[i] = PatternCount(ExtendedGenome[i:i+(n//2)], symbol)\n",
    "    return array\n",
    "\n",
    "x = SymbolArray('AAAAGGGG', 'A')\n",
    "print(x)\n",
    "\n",
    "\n",
    "##Can we generate a symbol array using only one pass down ExtendedGenome and therefore only n+(n//2) total symbol comparisons? \n",
    "# Such a method would reduce the running time of an algorithm generating the symbol array from a few days to a few seconds.\n",
    "\n",
    "##establish initial slide count at position zero\n",
    "\n",
    "##add count same based on next position if correct symbol letter\n",
    "\n",
    "\n",
    "##keep count same if next position is correct letter but first position of previous frame was also correct\n",
    "\n",
    "##subtract count if first position of previous frame was correct but next position is not \n",
    "\n",
    "\n",
    "\n"
   ]
  },
  {
   "cell_type": "code",
   "execution_count": 11,
   "metadata": {},
   "outputs": [
    {
     "name": "stdout",
     "output_type": "stream",
     "text": [
      "{0: 4, 1: 3, 2: 2, 3: 1, 4: 0, 5: 1, 6: 2, 7: 3}\n"
     ]
    }
   ],
   "source": [
    "def FasterSymbolArray(Genome, symbol):\n",
    "    array = {}\n",
    "    n = len(Genome)\n",
    "    ExtendedGenome = Genome + Genome[0:n//2]\n",
    "    \n",
    "    array[0] = PatternCount(ExtendedGenome[0:(n//2)], symbol)\n",
    "    \n",
    "    for i in range(1,n):\n",
    "        if ExtendedGenome[i+(n//2)-1] == symbol and ExtendedGenome[i] == symbol:\n",
    "            array[i] = array[i-1]\n",
    "            \n",
    "        elif ExtendedGenome[i+(n//2)-1] != symbol and ExtendedGenome[i] == symbol:\n",
    "            array[i] = array[i-1] - 1\n",
    "            \n",
    "        elif ExtendedGenome[i+(n//2)-1] == symbol and ExtendedGenome[i] != symbol:\n",
    "            array[i] = array[i-1] + 1\n",
    "        \n",
    "        elif ExtendedGenome[i+(n//2)-1] != symbol and ExtendedGenome[i] != symbol:\n",
    "            array[i] = array[i-1] -1\n",
    "        \n",
    "        else:\n",
    "            array[i] = array[i-1]\n",
    "            \n",
    "    return array\n",
    "\n",
    "x = FasterSymbolArray('AAAAGGGG', 'A')\n",
    "print(x)\n",
    "\n",
    "\n",
    "\n",
    "\n",
    "##based on ex in module\n",
    "##The figure below visualizes the symbol array for E. coli and symbol equal to \"C\". Notice the clear pattern in the data! \n",
    "# The maximum value of the array occurs around position 1600000, and the minimum value of the array occurs around position 4000000. \n",
    "# We can therefore infer that the reverse half-strand begins around position 1600000, and that the forward half-strand begins around position 4000000. \n",
    "# Because we know that ori occurs where the reverse half-strand transitions to the forward half-strand, \n",
    "# we have discovered that ori is located in the neighborhood of position 4000000 of the E. coli genome, without ever needing to put on a lab coat!"
   ]
  },
  {
   "cell_type": "code",
   "execution_count": null,
   "metadata": {},
   "outputs": [],
   "source": [
    "##practice with ecoli genome, then build out plots and graphs to locate ori "
   ]
  },
  {
   "cell_type": "code",
   "execution_count": 18,
   "metadata": {},
   "outputs": [
    {
     "name": "stdout",
     "output_type": "stream",
     "text": [
      "List: [0, -1, -1, -1, 0, 1, 2, 1, 1, 1, 0, 1, 2, 1, 0, 0, 0, 0, -1, 0, -1, -2]\n",
      "Minimum value: -2\n",
      "Index of minimum value in list: 21\n",
      "Character at the index in the genome: C\n"
     ]
    }
   ],
   "source": [
    "##Type Restriction: Arrays from the array module are more restrictive. They only allow elements of the same type, which can be specified when creating the array.\n",
    "##Efficiency: Arrays can be more memory-efficient than lists if you need to store large amounts of data of the same type.\n",
    "\n",
    "\n",
    "import array\n",
    "\n",
    "def skew_array(genome):\n",
    "    []\n",
    "    ##establish and reference value first \n",
    "    n = len(genome) \n",
    "    \n",
    "    # Create an empty array of type 'i' (integer)\n",
    "    empty_array = array.array('i', [0] * (n + 1))\n",
    "    empty_array[0] = 0\n",
    "    \n",
    "    \n",
    "    \n",
    "    \n",
    "    # Iterate over the genome to compute the skew array\n",
    "    \n",
    "    ##In this case, range(1, n + 1) will generate integers starting from 1 up to n (inclusive). The + 1 ensures that n is included in the range.\n",
    "    \n",
    "    for i in range(1, n + 1):  # Start from 1 to use empty_array[i-1]\n",
    "        if genome[i - 1] in \"AT\":\n",
    "            empty_array[i] = empty_array[i - 1]\n",
    "        elif genome[i - 1] == 'G':\n",
    "            empty_array[i] = empty_array[i - 1] + 1\n",
    "        elif genome[i - 1] == 'C':\n",
    "            empty_array[i] = empty_array[i - 1] - 1\n",
    "        else:\n",
    "            empty_array[i] = empty_array[i - 1]\n",
    "    \n",
    "    return empty_array\n",
    "\n",
    "x = skew_array('CATGGGCATCGGCCATACGCC')\n",
    "x_list = x.tolist()  # Convert the array to a list for easier readability\n",
    "\n",
    "min_value = min(x_list)\n",
    "\n",
    "# Find the index of the minimum value\n",
    "min_index = x_list.index(min_value)\n",
    "\n",
    "# Print results\n",
    "print(\"List:\", x_list)\n",
    "print(\"Minimum value:\", min_value)\n",
    "print(\"Index of minimum value in list:\", min_index)\n",
    "\n",
    "\n",
    "# Define the genome string\n",
    "genome = 'CATGGGCATCGGCCATACGCC'\n",
    "\n",
    "# Match this index to the genome\n",
    "if min_index > 0:  # Check if index is valid for genome (must be greater than 0 to match genome)\n",
    "    corresponding_genome_position = genome[min_index - 1]  # Adjust for 1-based index\n",
    "    print(\"Character at the index in the genome:\", corresponding_genome_position)\n",
    "else:\n",
    "    print(\"Index 0 has no corresponding position in the genome.\")\n",
    "\n",
    "##We have just developed an insight for a new algorithm for locating ori: it should be found where the skew array attains a minimum.\n",
    "\n",
    "\n"
   ]
  },
  {
   "cell_type": "code",
   "execution_count": null,
   "metadata": {},
   "outputs": [],
   "source": [
    "##Solving the Minimum Skew Problem now provides us with an approximate location of ori at position 3923620 in E. coli. \n",
    "# In an attempt to confirm this hypothesis, let’s look for a hidden message representing a potential DnaA box near this location. \n",
    "# Solving the Frequent Words Problem in a window of length 500 starting at position 3923620 (shown below) \n",
    "# reveals no 9-mers (along with their reverse complements) that appear three or more times! Even if we have located the position of ori in E. coli, \n",
    "# it appears that we still have not found the DnaA boxes that jump-start replication in this bacterium . . ."
   ]
  },
  {
   "cell_type": "code",
   "execution_count": null,
   "metadata": {},
   "outputs": [],
   "source": [
    "##We say that position i in k-mers p and q is a mismatch if the symbols at position i of the two strings are not the same.\n",
    "# The total number of mismatches between strings p and q is called the Hamming distance between these strings. \n",
    "# We will let you implement a function to compute this distance, called HammingDistance(p, q).\n",
    "\n",
    "##Hamming Distance Problem: Compute the Hamming distance between two strings.\n",
    "## Input: Two strings of equal length.\n",
    "##Output: The Hamming distance between these strings.\n",
    "\n",
    "\n",
    "def HammingDistance(p, q):\n",
    "    # Check if strings are of equal length\n",
    "    if len(p) != len(q):\n",
    "        raise ValueError(\"Strings are not the same length\")\n",
    "    \n",
    "    # Initialize the Hamming distance\n",
    "    Hamming_Distance = 0\n",
    "    \n",
    "    # Calculate the Hamming distance\n",
    "    for i in range(len(p)):\n",
    "        if p[i] != q[i]:\n",
    "            Hamming_Distance += 1\n",
    "            \n",
    "    return Hamming_Distance\n",
    "\n",
    "\n",
    "\n",
    "\n"
   ]
  },
  {
   "cell_type": "code",
   "execution_count": null,
   "metadata": {},
   "outputs": [],
   "source": [
    "def ApproximatePatternMatching(Text, Pattern, d):\n",
    "    positions = [] \n",
    "    \n",
    "    ##could take length of pattern\n",
    "    n = len(Pattern)\n",
    "\n",
    "    ##go over frame by frame\n",
    "    for i in range(0,len(Text)-n+1):\n",
    "            if HammingDistance(Text[i:i+n], Pattern) <= d:\n",
    "                positions.append(i)\n",
    "            else:\n",
    "                pass\n",
    "    return positions"
   ]
  },
  {
   "cell_type": "code",
   "execution_count": null,
   "metadata": {},
   "outputs": [],
   "source": [
    "def ApproximatePatternCount(Pattern, Text, d):\n",
    "    count = 0 \n",
    "    n = len(Pattern)\n",
    "\n",
    "    ##go over frame by frame\n",
    "    for i in range(0,len(Text)-n+1):\n",
    "            if HammingDistance(Text[i:i+n], Pattern) <= d:\n",
    "                count+=1\n",
    "            else:\n",
    "                pass\n",
    "    \n",
    "    return count"
   ]
  },
  {
   "cell_type": "code",
   "execution_count": 20,
   "metadata": {},
   "outputs": [
    {
     "data": {
      "text/plain": [
       "36"
      ]
     },
     "execution_count": 20,
     "metadata": {},
     "output_type": "execute_result"
    }
   ],
   "source": [
    "def HammingDistance(p, q):\n",
    "    # Check if strings are of equal length\n",
    "    if len(p) != len(q):\n",
    "        raise ValueError(\"Strings are not the same length\")\n",
    "    \n",
    "    # Initialize the Hamming distance\n",
    "    Hamming_Distance = 0\n",
    "    \n",
    "    # Calculate the Hamming distance\n",
    "    for i in range(len(p)):\n",
    "        if p[i] != q[i]:\n",
    "            Hamming_Distance += 1\n",
    "            \n",
    "    return Hamming_Distance\n",
    "\n",
    "HammingDistance(\"CTACAGCAATACGATCATATGCGGATCCGCAGTGGCCGGTAGACACACGT\" ,\"CTACCCCGCTGCTCAATGACCGGGACTAAAGAGGCGAAGATTATGGTGTG\" )"
   ]
  },
  {
   "cell_type": "code",
   "execution_count": 1,
   "metadata": {},
   "outputs": [],
   "source": [
    "##profile matrix Profile(Motifs) for which element (i, j) is the frequency of the i-th nucleotide in the j-th column of the motif matrix \n",
    "# (i.e., the number of occurrences of the i-th nucleotide divided by t, the number of nucleotides in the column).\n",
    "\n",
    "\n",
    "def Count(Motifs):\n",
    "    count = {}\n",
    "    k = len(Motifs[0])  # The length of each motif (all motifs are of the same length)\n",
    "    \n",
    "    # Initialize the count dictionary for nucleotides\n",
    "    for symbol in \"ACGT\":\n",
    "        count[symbol] = [0] * k\n",
    "    \n",
    "    # Fill in the count matrix\n",
    "    t = len(Motifs)  # Number of motifs (rows)\n",
    "    for i in range(t):\n",
    "        for j in range(k):\n",
    "            symbol = Motifs[i][j]\n",
    "            count[symbol][j] += 1\n",
    "    \n",
    "    return count\n"
   ]
  },
  {
   "cell_type": "code",
   "execution_count": null,
   "metadata": {},
   "outputs": [],
   "source": [
    "def Profile(Motifs):\n",
    "    # Step 1: Get the count matrix\n",
    "    count = Count(Motifs)\n",
    "    \n",
    "    # Step 2: Calculate the number of motifs (rows)\n",
    "    t = len(Motifs)\n",
    "    \n",
    "    # Step 3: Directly compute the profile matrix by dividing each count by the number of motifs\n",
    "    profile = {symbol: [count[symbol][j] / t for j in range(len(count[symbol]))] for symbol in \"ACGT\"}\n",
    "    \n",
    "    return profile\n"
   ]
  },
  {
   "cell_type": "code",
   "execution_count": 5,
   "metadata": {},
   "outputs": [],
   "source": [
    "##Finally, we can form a consensus string, denoted Consensus(Motifs), from the most popular nucleotides \n",
    "# in each column of the motif matrix (ties are broken arbitrarily). \n",
    "# If we select Motifs correctly from the collection of upstream regions, then Consensus(Motifs) provides\n",
    "# a candidate regulatory motif for these regions.\n",
    "\n",
    "def Consensus(Motifs):\n",
    "    \n",
    "    k = len(Motifs[0])\n",
    "    count = Count(Motifs)\n",
    "    \n",
    "    consensus = ''\n",
    "    \n",
    "    for j in range(k):\n",
    "        m = 0\n",
    "        frequentSymbol = ''\n",
    "        for symbol in \"ACGT\":\n",
    "            if count[symbol][j] > m:\n",
    "                m = count[symbol][j]\n",
    "                frequentSymbol = symbol\n",
    "        consensus += frequentSymbol\n",
    "        \n",
    "    return consensus\n",
    "    \n",
    "    \n",
    "    "
   ]
  },
  {
   "cell_type": "code",
   "execution_count": 7,
   "metadata": {},
   "outputs": [
    {
     "name": "stdout",
     "output_type": "stream",
     "text": [
      "CACCTA\n"
     ]
    }
   ],
   "source": [
    "# Example usage:\n",
    "x = Consensus([\n",
    "    \"AACGTA\",\n",
    "    \"CCCGTT\",\n",
    "    \"CACCTT\",\n",
    "    \"GGATTA\",\n",
    "    \"TTCCGG\"\n",
    "])\n",
    "\n",
    "print(x)"
   ]
  },
  {
   "cell_type": "code",
   "execution_count": null,
   "metadata": {},
   "outputs": [],
   "source": [
    "def Score(Motifs):\n",
    "    \n",
    "    x = Consensus(Motifs)\n",
    "    score_count = 0\n",
    "    k = len(Motifs[0])\n",
    "    t = len(Motifs)\n",
    "    for i in range(t):\n",
    "        for j in range(k):\n",
    "            if Motifs[i][j] != x[j]:\n",
    "                score_count +=1\n",
    "    \n",
    "    return score_count\n",
    "    \n",
    "    \n",
    "    "
   ]
  },
  {
   "cell_type": "code",
   "execution_count": null,
   "metadata": {},
   "outputs": [],
   "source": []
  }
 ],
 "metadata": {
  "kernelspec": {
   "display_name": "base",
   "language": "python",
   "name": "python3"
  },
  "language_info": {
   "codemirror_mode": {
    "name": "ipython",
    "version": 3
   },
   "file_extension": ".py",
   "mimetype": "text/x-python",
   "name": "python",
   "nbconvert_exporter": "python",
   "pygments_lexer": "ipython3",
   "version": "3.12.4"
  }
 },
 "nbformat": 4,
 "nbformat_minor": 2
}
